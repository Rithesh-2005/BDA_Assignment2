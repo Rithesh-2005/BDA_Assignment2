{
 "cells": [
  {
   "cell_type": "code",
   "execution_count": null,
   "id": "ee785ed1",
   "metadata": {
    "vscode": {
     "languageId": "plaintext"
    }
   },
   "outputs": [],
   "source": [
    "from pyspark.sql import SparkSession\n",
    "from pyspark.ml.recommendation import ALS\n",
    "from pyspark.ml.evaluation import RegressionEvaluator\n",
    "from pyspark.sql.functions import col\n",
    "\n",
    "# Start Spark session\n",
    "spark = SparkSession.builder.appName(\"MovieRecommendationSystem\").getOrCreate()\n",
    "\n",
    "# Load the data\n",
    "ratings_path = \"/root/.cache/kagglehub/datasets/prajitdatta/movielens-100k-dataset/versions/ratings.csv\"\n",
    "movies_path = \"/root/.cache/kagglehub/datasets/prajitdatta/movielens-100k-dataset/versions/movies.csv\"\n",
    "\n",
    "ratings = spark.read.csv(ratings_path, header=True, inferSchema=True)\n",
    "movies = spark.read.csv(movies_path, header=True, inferSchema=True)\n",
    "\n",
    "# Preprocess ratings\n",
    "ratings = ratings.select(\"userId\", \"movieId\", \"rating\")\n",
    "\n",
    "#  Split into training and test sets\n",
    "(train, test) = ratings.randomSplit([0.8, 0.2], seed=42)\n",
    "\n",
    "#  Build the ALS Model\n",
    "als = ALS(\n",
    "    userCol=\"userId\",\n",
    "    itemCol=\"movieId\",\n",
    "    ratingCol=\"rating\",\n",
    "    coldStartStrategy=\"drop\",\n",
    "    nonnegative=True,\n",
    "    implicitPrefs=False,\n",
    "    maxIter=10,\n",
    "    regParam=0.1,\n",
    "    rank=10\n",
    ")\n",
    "\n",
    "model = als.fit(train)\n",
    "\n",
    "#  Predict on test set\n",
    "predictions = model.transform(test)\n",
    "\n",
    "#  Evaluate the model\n",
    "evaluator = RegressionEvaluator(metricName=\"rmse\", labelCol=\"rating\", predictionCol=\"prediction\")\n",
    "rmse = evaluator.evaluate(predictions)\n",
    "print(f\"📉 Root-mean-square error = {rmse:.4f}\")\n",
    "\n",
    "#  Generate top 10 movie recommendations for each user\n",
    "user_recommendations = model.recommendForAllUsers(10)\n",
    "\n",
    "#  show recommendations\n",
    "users = [i for i in range(1,6)]\n",
    "user_with_titles=[]\n",
    "for i in users:\n",
    "  user_recs = user_recommendations.filter(col(\"userId\") == i)\n",
    "  user_recs.show(truncate=False)\n",
    "\n",
    "  #  Join with movie titles\n",
    "  from pyspark.sql.functions import explode\n",
    "\n",
    "  user_exploded = user_recs.select(\"userId\", explode(\"recommendations\").alias(\"rec\"))\n",
    "  user_movies = user_exploded.select(\"userId\", col(\"rec.movieId\").alias(\"movieId\"), col(\"rec.rating\").alias(\"pred_rating\"))\n",
    "  user_with_titles.append(user_movies.join(movies, on=\"movieId\").select(\"title\", \"pred_rating\"))\n",
    "\n",
    "  print(f\"🎬 Top 10 recommended movies for user{i}:\")\n",
    "  user_with_titles[i-1].show(truncate=False)\n"
   ]
  },
  {
   "cell_type": "code",
   "execution_count": null,
   "id": "f44c4cca",
   "metadata": {
    "vscode": {
     "languageId": "plaintext"
    }
   },
   "outputs": [],
   "source": [
    "import matplotlib.pyplot as plt\n",
    "for i in users:\n",
    "\n",
    "  pdf = user_with_titles[i-1].toPandas()\n",
    "  pdf.sort_values(\"pred_rating\", ascending=False).plot(kind=\"barh\", x=\"title\", y=\"pred_rating\", figsize=(8,8), color=\"skyblue\")\n",
    "  plt.xlabel(\"Predicted Rating\")\n",
    "  plt.title(f\"Top 10 Movie Recommendations for User {i}\")\n",
    "  plt.gca().invert_yaxis()\n",
    "  plt.tight_layout()\n",
    "  plt.show()\n"
   ]
  }
 ],
 "metadata": {
  "language_info": {
   "name": "python"
  }
 },
 "nbformat": 4,
 "nbformat_minor": 5
}
